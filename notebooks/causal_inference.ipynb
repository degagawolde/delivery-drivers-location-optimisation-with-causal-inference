{
 "cells": [
  {
   "cell_type": "code",
   "execution_count": 11,
   "metadata": {},
   "outputs": [],
   "source": [
    "import numpy as np\n",
    "import pandas as pd\n"
   ]
  },
  {
   "cell_type": "code",
   "execution_count": 12,
   "metadata": {},
   "outputs": [
    {
     "data": {
      "text/html": [
       "<div>\n",
       "<style scoped>\n",
       "    .dataframe tbody tr th:only-of-type {\n",
       "        vertical-align: middle;\n",
       "    }\n",
       "\n",
       "    .dataframe tbody tr th {\n",
       "        vertical-align: top;\n",
       "    }\n",
       "\n",
       "    .dataframe thead th {\n",
       "        text-align: right;\n",
       "    }\n",
       "</style>\n",
       "<table border=\"1\" class=\"dataframe\">\n",
       "  <thead>\n",
       "    <tr style=\"text-align: right;\">\n",
       "      <th></th>\n",
       "      <th>x</th>\n",
       "      <th>y</th>\n",
       "    </tr>\n",
       "  </thead>\n",
       "  <tbody>\n",
       "    <tr>\n",
       "      <th>0</th>\n",
       "      <td>0</td>\n",
       "      <td>0</td>\n",
       "    </tr>\n",
       "    <tr>\n",
       "      <th>1</th>\n",
       "      <td>1</td>\n",
       "      <td>0</td>\n",
       "    </tr>\n",
       "    <tr>\n",
       "      <th>2</th>\n",
       "      <td>1</td>\n",
       "      <td>0</td>\n",
       "    </tr>\n",
       "    <tr>\n",
       "      <th>3</th>\n",
       "      <td>1</td>\n",
       "      <td>0</td>\n",
       "    </tr>\n",
       "    <tr>\n",
       "      <th>4</th>\n",
       "      <td>1</td>\n",
       "      <td>0</td>\n",
       "    </tr>\n",
       "    <tr>\n",
       "      <th>...</th>\n",
       "      <td>...</td>\n",
       "      <td>...</td>\n",
       "    </tr>\n",
       "    <tr>\n",
       "      <th>495</th>\n",
       "      <td>1</td>\n",
       "      <td>0</td>\n",
       "    </tr>\n",
       "    <tr>\n",
       "      <th>496</th>\n",
       "      <td>1</td>\n",
       "      <td>1</td>\n",
       "    </tr>\n",
       "    <tr>\n",
       "      <th>497</th>\n",
       "      <td>0</td>\n",
       "      <td>1</td>\n",
       "    </tr>\n",
       "    <tr>\n",
       "      <th>498</th>\n",
       "      <td>0</td>\n",
       "      <td>0</td>\n",
       "    </tr>\n",
       "    <tr>\n",
       "      <th>499</th>\n",
       "      <td>0</td>\n",
       "      <td>0</td>\n",
       "    </tr>\n",
       "  </tbody>\n",
       "</table>\n",
       "<p>500 rows × 2 columns</p>\n",
       "</div>"
      ],
      "text/plain": [
       "     x  y\n",
       "0    0  0\n",
       "1    1  0\n",
       "2    1  0\n",
       "3    1  0\n",
       "4    1  0\n",
       "..  .. ..\n",
       "495  1  0\n",
       "496  1  1\n",
       "497  0  1\n",
       "498  0  0\n",
       "499  0  0\n",
       "\n",
       "[500 rows x 2 columns]"
      ]
     },
     "execution_count": 12,
     "metadata": {},
     "output_type": "execute_result"
    }
   ],
   "source": [
    "p_z = 0.5\n",
    "p_x_z = [0.9, 0.1]\n",
    "p_y_xz = [0.2, 0.4, 0.6, 0.8]\n",
    "z = np.random.binomial(n=1, p=p_z, size=500)\n",
    "p_x = np.choose(z, p_x_z)\n",
    "x = np.random.binomial(n=1, p=p_x, size=500)\n",
    "p_y = np.choose(x+2*z, p_y_xz)\n",
    "y = np.random.binomial(n=1, p=p_y, size=500)\n",
    "generate_dataset_0 = pd.DataFrame({\"x\":x, \"y\":y})\n",
    "generate_dataset_0"
   ]
  },
  {
   "cell_type": "code",
   "execution_count": 13,
   "metadata": {},
   "outputs": [
    {
     "data": {
      "text/plain": [
       "{'estimated_effect': -0.1609101535603913, 'standard_error': 0.0866593277954973}"
      ]
     },
     "execution_count": 13,
     "metadata": {},
     "output_type": "execute_result"
    }
   ],
   "source": [
    "def estimate_uplift(ds):\n",
    "    base = ds[ds.x == 0]\n",
    "    variant = ds[ds.x == 1]\n",
    "    delta = variant.y.mean() - base.y.mean()\n",
    "    delta_err = 1.96 * np.sqrt(variant.y.var() / variant.shape[0] + base.y.var() / base.shape[0])\n",
    "    return {\"estimated_effect\": delta, \"standard_error\": delta_err}\n",
    "\n",
    "estimate_uplift(generate_dataset_0)"
   ]
  },
  {
   "cell_type": "code",
   "execution_count": 14,
   "metadata": {},
   "outputs": [
    {
     "data": {
      "text/plain": [
       "0.0004378489315638042"
      ]
     },
     "execution_count": 14,
     "metadata": {},
     "output_type": "execute_result"
    }
   ],
   "source": [
    "from scipy.stats import chi2_contingency\n",
    "contingency_table = (\n",
    "    generate_dataset_0\n",
    "    .assign(placeholder=1)\n",
    "    .pivot_table(index=\"x\", columns=\"y\", values=\"placeholder\", aggfunc=\"sum\")\n",
    "    .values\n",
    ")\n",
    "_, p, _, _ = chi2_contingency(contingency_table, lambda_=\"log-likelihood\")\n",
    "# p-value\n",
    "p"
   ]
  },
  {
   "cell_type": "code",
   "execution_count": 21,
   "metadata": {},
   "outputs": [],
   "source": [
    "import numpy as np\n",
    "import pandas as pd\n",
    "from sklearn.preprocessing import PolynomialFeatures\n",
    "def generate_dataset_0(n_samples=500, set_X=None, show_z=False):\n",
    "    p_z = 0.5\n",
    "    p_x_z = [0.9, 0.1]\n",
    "    p_y_xz = [0.2, 0.4, 0.6, 0.8]\n",
    "    z = np.random.binomial(n=1, p=p_z, size=n_samples)\n",
    "    if set_X is not None:\n",
    "        assert(len(set_X) == n_samples)\n",
    "        x = set_X\n",
    "    else:\n",
    "        p_x = np.choose(z, p_x_z)\n",
    "        x = np.random.binomial(n=1, p=p_x, size=n_samples)\n",
    "    p_y = np.choose(x+2*z, p_y_xz)\n",
    "    y = np.random.binomial(n=1, p=p_y, size=n_samples)\n",
    "    if show_z:\n",
    "        return pd.DataFrame({\"x\":x, \"y\":y, \"z\":z})\n",
    "    return pd.DataFrame({\"x\":x, \"y\":y})"
   ]
  },
  {
   "cell_type": "code",
   "execution_count": 22,
   "metadata": {},
   "outputs": [
    {
     "data": {
      "text/plain": [
       "{'estimated_effect': 0.195, 'standard_error': 0.019224927128366914}"
      ]
     },
     "execution_count": 22,
     "metadata": {},
     "output_type": "execute_result"
    }
   ],
   "source": [
    "def run_ab_test(datagenerator, n_samples=10000, filter_=None):\n",
    "    n_samples_a = int(n_samples / 2)\n",
    "    n_samples_b = n_samples - n_samples_a\n",
    "    set_X = np.concatenate([np.ones(n_samples_a), np.zeros(n_samples_b)]).astype(np.int64)\n",
    "    ds = datagenerator(n_samples=n_samples, set_X=set_X)\n",
    "    if filter_ != None:\n",
    "        ds = ds[filter_(ds)].copy()\n",
    "    return estimate_uplift(ds)\n",
    "\n",
    "run_ab_test(generate_dataset_0)"
   ]
  },
  {
   "cell_type": "markdown",
   "metadata": {},
   "source": [
    "### Correlation doesn’t imply causality. \n",
    "- X and Y are random variables and we want to measure the effect by forcing X to take a certain value on how the distribution of Y will get changed. \n",
    "- We can call the procedure of forcing a variable to take a certain value intervention.\n",
    "    - P(Y|do(X))\n",
    "- Let’s say these variables are Y0  and Y1 and also these random variables can not be directly observed. \n",
    "- Y  is defined in terms of\n",
    "    - Y=Y1 when X=1\n",
    "    - Y=Y0 when X=0\n",
    "\n",
    "Using those potential outcomes shifts the problem from one about how distributions change under the intervention, to one about data drawn Independent and identically distributed random variables with missing values\n",
    "\n",
    "- ATE = E[Y1−Y0]\n",
    "- ATT=E[Y1−Y0|X=1], the “Average Treatment effect of the Treated”\n",
    "- ATC=E[Y1−Y0|X=0], the “Average Treatment effect of the Control”\n"
   ]
  },
  {
   "cell_type": "code",
   "execution_count": null,
   "metadata": {},
   "outputs": [],
   "source": []
  }
 ],
 "metadata": {
  "kernelspec": {
   "display_name": "Python 3.9.7 ('env': venv)",
   "language": "python",
   "name": "python3"
  },
  "language_info": {
   "codemirror_mode": {
    "name": "ipython",
    "version": 3
   },
   "file_extension": ".py",
   "mimetype": "text/x-python",
   "name": "python",
   "nbconvert_exporter": "python",
   "pygments_lexer": "ipython3",
   "version": "3.9.7"
  },
  "orig_nbformat": 4,
  "vscode": {
   "interpreter": {
    "hash": "6c74f82402966707b4c78ec00e9b182517503b5f683a7fbdbe0e9b9c396839ef"
   }
  }
 },
 "nbformat": 4,
 "nbformat_minor": 2
}
